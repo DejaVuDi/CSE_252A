{
 "cells": [
  {
   "cell_type": "code",
   "execution_count": 1,
   "metadata": {},
   "outputs": [],
   "source": [
    "import numpy as np"
   ]
  },
  {
   "cell_type": "code",
   "execution_count": 13,
   "metadata": {},
   "outputs": [],
   "source": [
    "import numpy as np\n",
    "import matplotlib.pyplot as plt\n",
    "# from tqdm import tqdm_notebook\n",
    "\n",
    "def grayscale(img):\n",
    "    '''\n",
    "    Converts RGB image to Grayscale\n",
    "    '''\n",
    "    gray=np.zeros((img.shape[0],img.shape[1]))\n",
    "    gray=img[:,:,0]*0.2989+img[:,:,1]*0.5870+img[:,:,2]*0.1140\n",
    "    return gray\n",
    "\n",
    "def plot_optical_flow(img,U,V,titleStr):\n",
    "    '''\n",
    "    Plots optical flow given U,V and one of the images\n",
    "    '''\n",
    "    \n",
    "    # Change t if required, affects the number of arrows\n",
    "    # t should be between 1 and min(U.shape[0],U.shape[1])\n",
    "    t=10 \n",
    "    \n",
    "    # Subsample U and V to get visually pleasing output\n",
    "    U1 = U[::t,::t]\n",
    "    V1 = V[::t,::t]\n",
    "    \n",
    "    # Create meshgrid of subsampled coordinates\n",
    "    r, c = img.shape[0],img.shape[1]\n",
    "    cols,rows = np.meshgrid(np.linspace(0,c-1,c), np.linspace(0,r-1,r))\n",
    "    cols = cols[::t,::t]\n",
    "    rows = rows[::t,::t]\n",
    "    \n",
    "    # Plot optical flow\n",
    "    plt.figure(figsize=(10,10))\n",
    "    plt.imshow(img)\n",
    "    plt.quiver(cols,rows,U1,V1)\n",
    "    plt.title(titleStr)\n",
    "    plt.show()\n",
    "    \n",
    "\n",
    "images=[]\n",
    "for i in range(1,5):\n",
    "    images.append(plt.imread('optical_flow_images/im'+str(i)+'.png')[:,:288,:])\n",
    "# each image after converting to gray scale is of size -> 400x288"
   ]
  },
  {
   "cell_type": "code",
   "execution_count": null,
   "metadata": {},
   "outputs": [],
   "source": [
    "# you can use interpolate from scipy\n",
    "# You can implement 'upsample_flow' and 'OpticalFlowRefine' \n",
    "# as 2 building blocks in order to complete this.\n",
    "from scipy.signal import convolve\n",
    "from scipy import interpolate\n",
    "def gradient(im1,im2):\n",
    "    \"\"\" ==========\n",
    "    Compute gradient of the image\n",
    "    ========== \"\"\"\n",
    "    x_dir = np.array([-1/2, 0, 1/2]).reshape((1,3))\n",
    "    y_dir = np.array([-1/2, 0, 1/2]).reshape((3,1))\n",
    "    dIx = convolve(im1,x_dir,mode=\"same\")\n",
    "    dIy = convolve(im1,y_dir,mode=\"same\")\n",
    "    dIt = im2-im1\n",
    "    return dIx,dIy,dIt\n",
    "\n",
    "def upsample_flow(u_prev, v_prev):\n",
    "    ''' You may implement this method to upsample optical flow from\n",
    "    previous level\n",
    "    u_prev, v_prev -> optical flow from prev level\n",
    "    u, v -> upsampled optical flow to the current level\n",
    "    '''\n",
    "    f_u = interpolate.interp2d(np.arange(u_prev.shape[1]),np.arange(u_prev.shape[0]),u_prev)\n",
    "    f_v = interpolate.interp2d(np.arange(v_prev.shape[1]),np.arange(v_prev.shape[0]),v_prev)\n",
    "    \n",
    "    u = f_u(np.linspace(0,u_prev.shape[1],u_prev.shape[1]*2),np.linspace(0,u_prev.shape[0],u_prev.shape[0]*2))\n",
    "    v = f_v(np.linspace(0,v_prev.shape[1],v_prev.shape[1]*2),np.linspace(0,v_prev.shape[0],v_prev.shape[0]*2))\n",
    "    return u, v\n",
    "\n",
    "def downsample(img):\n",
    "    kernel = np.array([[1,4,6,4,1],\n",
    "                     [4,16,24,16,4],\n",
    "                     [6,24,36,24,6],\n",
    "                     [4,16,24,16,4],\n",
    "                     [1,4,6,4,1]])/256\n",
    "    downsample_img = convolve(img,kernel,mode='same')\n",
    "    return downsample_img[::2,::2]\n",
    "\n",
    "def pyramid(img,n):\n",
    "    pyramids = [img]\n",
    "    for _ in range(n):\n",
    "        img = downsample(img)\n",
    "        pyramids.append(img)\n",
    "    return pyramids\n",
    "\n",
    "def OpticalFlowRefine(im1,im2,window, u_prev=None, v_prev=None):\n",
    "    '''\n",
    "    Inputs: the two images at current level and window size\n",
    "    u_prev, v_prev - previous levels optical flow\n",
    "    Return u,v - optical flow at current level\n",
    "    '''\n",
    "    # upsample flow from previous level\n",
    "    assert im1.shape==u_prev.shape\n",
    "    u = np.zeros(im1.shape)\n",
    "    v = np.zeros(im1.shape)\n",
    "    row,col = im1.shape\n",
    "    w = window//2\n",
    "    dIx,dIy,_ = gradient(im1,im2)\n",
    "    for i in range(w,row-w):\n",
    "        for j in range(w,col-w):            \n",
    "            row_i = int(max(0,min(i-v_prev[i,j],row-w-1))) \n",
    "            col_j = int(max(0,min(j-u_prev[i,j],col-w-1))) \n",
    "            Ix = dIx[i-w:i+w+1,j-w:j+w+1].flatten()\n",
    "            Iy = dIy[i-w:i+w+1,j-w:j+w+1].flatten()\n",
    "#             It = (im2[row_i-w:row_i+w+1,col_j-w:col_j+w+1]-im1[i-w:i+w+1,j-w:j+w+1]).flatten()\n",
    "            It = (im1[i-w:i+w+1,j-w:j+w+1]-im2[row_i-w:row_i+w+1,col_j-w:col_j+w+1]).flatten()\n",
    "            A = np.vstack((Ix, Iy)).T\n",
    "            M = A.T@A\n",
    "            b = A.T@-It.reshape(-1,1)\n",
    "            U = np.linalg.solve(M,b)\n",
    "            u[i,j] = U[0]\n",
    "            v[i,j] = U[1]\n",
    "    return u, v\n",
    "def LucasKanadeMultiScale(im1,im2,window, numLevels=2):\n",
    "    '''\n",
    "    Implement the multi-resolution Lucas kanade algorithm\n",
    "    Inputs: the two images, window size and number of levels\n",
    "    if numLevels = 1, then compute optical flow at only the given image level.\n",
    "    Returns: u, v - the optical flow\n",
    "    '''\n",
    "    # call OpticalFlowRefine iteratively\n",
    "    i = numLevels\n",
    "    \n",
    "    pyramids_im1 = pyramid(im1,numLevels)\n",
    "    pyramids_im2 = pyramid(im2,numLevels)\n",
    "    u_prev = None\n",
    "    v_prev = None\n",
    "    u_star,v_star = np.zeros(pyramids_im1[numLevels-1].shape),np.zeros(pyramids_im1[numLevels-1].shape)\n",
    "    \n",
    "    while i > 0:\n",
    "        if u_prev is not None:\n",
    "            u_star,v_star = upsample_flow(u_prev,v_prev)\n",
    "            u_star,v_star = u_star*2,v_star*2\n",
    "        u_prime,v_prime = OpticalFlowRefine(pyramids_im1[i-1],pyramids_im2[i-1],window,u_star,v_star)\n",
    "        u_prev,v_prev = u_star+u_prime,v_star+v_prime\n",
    "        i -= 1\n",
    "    return u_prev, -v_prev"
   ]
  },
  {
   "cell_type": "code",
   "execution_count": 25,
   "metadata": {},
   "outputs": [],
   "source": [
    "from scipy.signal import convolve\n"
   ]
  },
  {
   "cell_type": "code",
   "execution_count": 15,
   "metadata": {},
   "outputs": [
    {
     "data": {
      "text/plain": [
       "(400, 288, 4)"
      ]
     },
     "execution_count": 15,
     "metadata": {},
     "output_type": "execute_result"
    }
   ],
   "source": [
    "images[0].shape"
   ]
  },
  {
   "cell_type": "code",
   "execution_count": 17,
   "metadata": {},
   "outputs": [],
   "source": [
    "im1 = grayscale(images[0])"
   ]
  },
  {
   "cell_type": "code",
   "execution_count": 18,
   "metadata": {},
   "outputs": [
    {
     "data": {
      "text/plain": [
       "(400, 288)"
      ]
     },
     "execution_count": 18,
     "metadata": {},
     "output_type": "execute_result"
    }
   ],
   "source": [
    "im1.shape"
   ]
  },
  {
   "cell_type": "code",
   "execution_count": 20,
   "metadata": {},
   "outputs": [
    {
     "data": {
      "image/png": "[encoded data removed]",
      "text/plain": [
       "<Figure size 432x288 with 1 Axes>"
      ]
     },
     "metadata": {
      "needs_background": "light"
     },
     "output_type": "display_data"
    }
   ],
   "source": [
    "plt.imshow(im1,cmap='gray')\n",
    "plt.show()"
   ]
  },
  {
   "cell_type": "code",
   "execution_count": 21,
   "metadata": {},
   "outputs": [
    {
     "data": {
      "image/png": "[encoded data removed]",
      "text/plain": [
       "<Figure size 432x288 with 1 Axes>"
      ]
     },
     "metadata": {
      "needs_background": "light"
     },
     "output_type": "display_data"
    }
   ],
   "source": [
    "plt.imshow(im1[::2,::2],cmap='gray')\n",
    "plt.show()"
   ]
  },
  {
   "cell_type": "code",
   "execution_count": 22,
   "metadata": {},
   "outputs": [],
   "source": [
    "    kernel = np.array([[1,4,6,4,1],\n",
    "                     [4,16,24,16,4],\n",
    "                     [6,24,36,24,6],\n",
    "                     [4,16,24,16,4],\n",
    "                     [1,4,6,4,1]])/256"
   ]
  },
  {
   "cell_type": "code",
   "execution_count": 29,
   "metadata": {},
   "outputs": [],
   "source": [
    "def downsample(img,n):\n",
    "    kernel = np.array([[1,4,6,4,1],\n",
    "                     [4,16,24,16,4],\n",
    "                     [6,24,36,24,6],\n",
    "                     [4,16,24,16,4],\n",
    "                     [1,4,6,4,1]])/256\n",
    "    downsample_img = convolve(img,kernel,mode='same')\n",
    "    pyramids = []\n",
    "    for i in range(n):\n",
    "        pyramids.append(downsample_img[::2*(i+1),::2*(i+1)] )\n",
    "    return pyramids"
   ]
  },
  {
   "cell_type": "code",
   "execution_count": 33,
   "metadata": {},
   "outputs": [
    {
     "ename": "IndexError",
     "evalue": "list index out of range",
     "output_type": "error",
     "traceback": [
      "\u001b[1;31m---------------------------------------------------------------------------\u001b[0m",
      "\u001b[1;31mIndexError\u001b[0m                                Traceback (most recent call last)",
      "\u001b[1;32m<ipython-input-33-0ba69be25eec>\u001b[0m in \u001b[0;36m<module>\u001b[1;34m()\u001b[0m\n\u001b[1;32m----> 1\u001b[1;33m \u001b[0mplt\u001b[0m\u001b[1;33m.\u001b[0m\u001b[0mimshow\u001b[0m\u001b[1;33m(\u001b[0m\u001b[0mdownsample\u001b[0m\u001b[1;33m(\u001b[0m\u001b[0mim1\u001b[0m\u001b[1;33m,\u001b[0m\u001b[1;36m3\u001b[0m\u001b[1;33m)\u001b[0m\u001b[1;33m[\u001b[0m\u001b[1;36m3\u001b[0m\u001b[1;33m]\u001b[0m\u001b[1;33m,\u001b[0m\u001b[0mcmap\u001b[0m\u001b[1;33m=\u001b[0m\u001b[1;34m'gray'\u001b[0m\u001b[1;33m)\u001b[0m\u001b[1;33m\u001b[0m\u001b[0m\n\u001b[0m\u001b[0;32m      2\u001b[0m \u001b[0mplt\u001b[0m\u001b[1;33m.\u001b[0m\u001b[0mshow\u001b[0m\u001b[1;33m(\u001b[0m\u001b[1;33m)\u001b[0m\u001b[1;33m\u001b[0m\u001b[0m\n",
      "\u001b[1;31mIndexError\u001b[0m: list index out of range"
     ]
    }
   ],
   "source": [
    "plt.imshow(downsample(im1,3)[3],cmap='gray')\n",
    "plt.show()"
   ]
  },
  {
   "cell_type": "code",
   "execution_count": 23,
   "metadata": {},
   "outputs": [
    {
     "name": "stdout",
     "output_type": "stream",
     "text": [
      "[[0.00390625 0.015625   0.0234375  0.015625   0.00390625]\n",
      " [0.015625   0.0625     0.09375    0.0625     0.015625  ]\n",
      " [0.0234375  0.09375    0.140625   0.09375    0.0234375 ]\n",
      " [0.015625   0.0625     0.09375    0.0625     0.015625  ]\n",
      " [0.00390625 0.015625   0.0234375  0.015625   0.00390625]]\n"
     ]
    }
   ],
   "source": [
    "print(kernel)"
   ]
  },
  {
   "cell_type": "code",
   "execution_count": 74,
   "metadata": {},
   "outputs": [],
   "source": [
    "a = np.arange(9).reshape(3,3)\n",
    "b = np.arange(9).reshape(3,3)+2"
   ]
  },
  {
   "cell_type": "code",
   "execution_count": 42,
   "metadata": {},
   "outputs": [],
   "source": [
    "Ix = a.flatten()"
   ]
  },
  {
   "cell_type": "code",
   "execution_count": 43,
   "metadata": {},
   "outputs": [],
   "source": [
    "Iy = b.flatten()"
   ]
  },
  {
   "cell_type": "code",
   "execution_count": 44,
   "metadata": {},
   "outputs": [],
   "source": [
    "A = np.vstack((Ix, Iy)).T"
   ]
  },
  {
   "cell_type": "code",
   "execution_count": 47,
   "metadata": {},
   "outputs": [
    {
     "data": {
      "text/plain": [
       "array([[204, 276],\n",
       "       [276, 384]])"
      ]
     },
     "execution_count": 47,
     "metadata": {},
     "output_type": "execute_result"
    }
   ],
   "source": [
    "A.T@A"
   ]
  },
  {
   "cell_type": "code",
   "execution_count": 52,
   "metadata": {},
   "outputs": [
    {
     "data": {
      "text/plain": [
       "array([ 1.00000000e+00, -1.70234197e-15])"
      ]
     },
     "execution_count": 52,
     "metadata": {},
     "output_type": "execute_result"
    }
   ],
   "source": [
    "np.linalg.solve(A.T@A,A.T@Ix)"
   ]
  },
  {
   "cell_type": "code",
   "execution_count": 53,
   "metadata": {},
   "outputs": [
    {
     "data": {
      "text/plain": [
       "array([0, 1])"
      ]
     },
     "execution_count": 53,
     "metadata": {},
     "output_type": "execute_result"
    }
   ],
   "source": [
    "np.array(range(2))"
   ]
  },
  {
   "cell_type": "code",
   "execution_count": 48,
   "metadata": {},
   "outputs": [
    {
     "data": {
      "text/plain": [
       "(9, 2)"
      ]
     },
     "execution_count": 48,
     "metadata": {},
     "output_type": "execute_result"
    }
   ],
   "source": [
    "A.shape"
   ]
  },
  {
   "cell_type": "code",
   "execution_count": 46,
   "metadata": {},
   "outputs": [
    {
     "data": {
      "text/plain": [
       "array([[204, 276],\n",
       "       [276, 384]])"
      ]
     },
     "execution_count": 46,
     "metadata": {},
     "output_type": "execute_result"
    }
   ],
   "source": [
    "np.matmul(A.T, A)"
   ]
  },
  {
   "cell_type": "code",
   "execution_count": 5,
   "metadata": {},
   "outputs": [
    {
     "data": {
      "text/plain": [
       "2"
      ]
     },
     "execution_count": 5,
     "metadata": {},
     "output_type": "execute_result"
    }
   ],
   "source": [
    "5//2"
   ]
  },
  {
   "cell_type": "code",
   "execution_count": 6,
   "metadata": {},
   "outputs": [
    {
     "data": {
      "text/plain": [
       "array([0, 1, 2])"
      ]
     },
     "execution_count": 6,
     "metadata": {},
     "output_type": "execute_result"
    }
   ],
   "source": [
    "a[0]"
   ]
  },
  {
   "cell_type": "code",
   "execution_count": 9,
   "metadata": {},
   "outputs": [
    {
     "data": {
      "text/plain": [
       "array([[ 0,  1,  2,  3],\n",
       "       [ 4,  5,  6,  7],\n",
       "       [ 8,  9, 10, 11]])"
      ]
     },
     "execution_count": 9,
     "metadata": {},
     "output_type": "execute_result"
    }
   ],
   "source": [
    "a"
   ]
  },
  {
   "cell_type": "code",
   "execution_count": 12,
   "metadata": {},
   "outputs": [
    {
     "data": {
      "text/plain": [
       "array([[0.        , 0.09667365, 0.16903085, 0.22423053],\n",
       "       [0.4472136 , 0.48336824, 0.50709255, 0.52320456],\n",
       "       [0.89442719, 0.87006284, 0.84515425, 0.8221786 ]])"
      ]
     },
     "execution_count": 12,
     "metadata": {},
     "output_type": "execute_result"
    }
   ],
   "source": [
    "a/np.linalg.norm(a,axis=0)"
   ]
  },
  {
   "cell_type": "code",
   "execution_count": 56,
   "metadata": {},
   "outputs": [
    {
     "data": {
      "text/plain": [
       "array([[ 0,  1,  2,  3],\n",
       "       [ 4,  5,  6,  7],\n",
       "       [ 8,  9, 10, 11]])"
      ]
     },
     "execution_count": 56,
     "metadata": {},
     "output_type": "execute_result"
    }
   ],
   "source": [
    "a"
   ]
  },
  {
   "cell_type": "code",
   "execution_count": 65,
   "metadata": {},
   "outputs": [],
   "source": [
    "from scipy import interpolate\n",
    "\n",
    "f = interpolate.interp2d(np.arange(a.shape[1]),np.arange(a.shape[0]),a)"
   ]
  },
  {
   "cell_type": "code",
   "execution_count": 66,
   "metadata": {},
   "outputs": [
    {
     "data": {
      "text/plain": [
       "array([[0.04822736, 0.29160331, 0.51112896, 0.65910374, 0.78561943,\n",
       "        0.89067604, 0.91694019, 0.91694019],\n",
       "       [0.47254249, 0.37472137, 0.3632137 , 0.61064637, 0.71925657,\n",
       "        0.6890443 , 0.68149124, 0.68149124],\n",
       "       [0.79360838, 0.50467231, 0.33556488, 0.52594336, 0.57099749,\n",
       "        0.47072728, 0.44565972, 0.44565972],\n",
       "       [0.90817582, 0.72828901, 0.54844894, 0.36874907, 0.25894598,\n",
       "        0.21903967, 0.20906309, 0.20906309],\n",
       "       [0.94636497, 0.80282792, 0.6194103 , 0.31635097, 0.15492881,\n",
       "        0.1351438 , 0.13019755, 0.13019755],\n",
       "       [0.94636497, 0.80282792, 0.6194103 , 0.31635097, 0.15492881,\n",
       "        0.1351438 , 0.13019755, 0.13019755]])"
      ]
     },
     "execution_count": 66,
     "metadata": {},
     "output_type": "execute_result"
    }
   ],
   "source": [
    "f(np.linspace(0,a.shape[1],a.shape[1]*2),np.linspace(0,a.shape[0],a.shape[0]*2))"
   ]
  },
  {
   "cell_type": "code",
   "execution_count": 59,
   "metadata": {},
   "outputs": [
    {
     "data": {
      "text/plain": [
       "array([0.        , 0.66666667, 1.33333333, 2.        ])"
      ]
     },
     "execution_count": 59,
     "metadata": {},
     "output_type": "execute_result"
    }
   ],
   "source": [
    "np.linspace(0, 2, 4)"
   ]
  },
  {
   "cell_type": "code",
   "execution_count": 63,
   "metadata": {},
   "outputs": [],
   "source": [
    "a = np.random.random((3,4))"
   ]
  },
  {
   "cell_type": "code",
   "execution_count": 64,
   "metadata": {},
   "outputs": [
    {
     "data": {
      "text/plain": [
       "array([[0.04822736, 0.47413527, 0.73309113, 0.91694019],\n",
       "       [0.75541924, 0.18616904, 0.73521042, 0.52452527],\n",
       "       [0.94636497, 0.69517513, 0.16482131, 0.13019755]])"
      ]
     },
     "execution_count": 64,
     "metadata": {},
     "output_type": "execute_result"
    }
   ],
   "source": [
    "a"
   ]
  },
  {
   "cell_type": "code",
   "execution_count": 68,
   "metadata": {},
   "outputs": [
    {
     "data": {
      "text/plain": [
       "array([0.69517513])"
      ]
     },
     "execution_count": 68,
     "metadata": {},
     "output_type": "execute_result"
    }
   ],
   "source": [
    "f(1,2)"
   ]
  },
  {
   "cell_type": "code",
   "execution_count": 69,
   "metadata": {},
   "outputs": [
    {
     "ename": "TypeError",
     "evalue": "unsupported operand type(s) for +: 'int' and 'NoneType'",
     "output_type": "error",
     "traceback": [
      "\u001b[1;31m---------------------------------------------------------------------------\u001b[0m",
      "\u001b[1;31mTypeError\u001b[0m                                 Traceback (most recent call last)",
      "\u001b[1;32m<ipython-input-69-68365d6ced2c>\u001b[0m in \u001b[0;36m<module>\u001b[1;34m()\u001b[0m\n\u001b[1;32m----> 1\u001b[1;33m \u001b[1;36m3\u001b[0m\u001b[1;33m+\u001b[0m\u001b[1;32mNone\u001b[0m\u001b[1;33m\u001b[0m\u001b[0m\n\u001b[0m",
      "\u001b[1;31mTypeError\u001b[0m: unsupported operand type(s) for +: 'int' and 'NoneType'"
     ]
    }
   ],
   "source": [
    "def LucasKanadeMultiScale(im1,im2,window, numLevels=2):\n",
    "    '''\n",
    "    Implement the multi-resolution Lucas kanade algorithm\n",
    "    Inputs: the two images, window size and number of levels\n",
    "    if numLevels = 1, then compute optical flow at only the given image level.\n",
    "    Returns: u, v - the optical flow\n",
    "    '''\n",
    "    # call OpticalFlowRefine iteratively\n",
    "    i = numLevels\n",
    "    \n",
    "    pyramids_im1 = pyramid(im1,numLevels)\n",
    "    pyramids_im2 = pyramid(im2,numLevels)\n",
    "    u_prev = None\n",
    "    v_prev = None\n",
    "    \n",
    "    while i > 0:\n",
    "        u_prime,v_prime = OpticalFlowRefine(pyramids_im1[i-1],pyramids_im2[i-1],window,u_prev,v_prev)\n",
    "        if u_prev is None:\n",
    "            u,v = u_prime,v_prime\n",
    "        else:\n",
    "            u,v = u_prime+u_prev,v_prime+v_prev\n",
    "        u_prev,v_prev = upsample_flow(u,v)\n",
    "        u_prev,u_prev = u_prev*2,u_prev*2\n",
    "        i -= 1\n",
    "    return u, v"
   ]
  },
  {
   "cell_type": "code",
   "execution_count": null,
   "metadata": {},
   "outputs": [],
   "source": [
    "# def LucasKanadeMultiScale(im1,im2,window, numLevels=2):\n",
    "#     '''\n",
    "#     Implement the multi-resolution Lucas kanade algorithm\n",
    "#     Inputs: the two images, window size and number of levels\n",
    "#     if numLevels = 1, then compute optical flow at only the given image level.\n",
    "#     Returns: u, v - the optical flow\n",
    "#     '''\n",
    "#     # call OpticalFlowRefine iteratively\n",
    "#     i = numLevels\n",
    "    \n",
    "#     pyramids_im1 = pyramid(im1,numLevels)\n",
    "#     pyramids_im2 = pyramid(im2,numLevels)\n",
    "#     u_prev = None\n",
    "#     v_prev = None\n",
    "    \n",
    "#     while i > 0:\n",
    "#         if u_prev is not None:\n",
    "#             u_star,v_star = upsample_flow(u_prev,v_prev)\n",
    "#             u_star,v_star = u_prev*2,v_prev*2\n",
    "#         u_prime,v_prime = OpticalFlowRefine(pyramids_im1[i-1],pyramids_im2[i-1],window,u_prev,v_prev)\n",
    "#         u,v = u_prime+u_prev,v_prime+v_prev\n",
    "#         i -= 1\n",
    "#     return u, v\n"
   ]
  },
  {
   "cell_type": "code",
   "execution_count": null,
   "metadata": {},
   "outputs": [],
   "source": [
    "#                 It = (im1[row_i-w:row_i+w+1,col_j-w:col_j+w+1]-im2[i-w:i+w+1,j-w:j+w+1]).flatten()\n",
    "\n",
    "def findshift(im1,im2,window):\n",
    "    u = np.zeros(im1.shape)\n",
    "    v = np.zeros(im1.shape)\n",
    "    row,col = im1.shape\n",
    "    w = window//2\n",
    "    dIx,dIy,dIt = gradient(im1,im2)\n",
    "    for i in range(w,row-w):\n",
    "        for j in range(w,col-w):\n",
    "            Ix = dIx[i-w:i+w+1,j-w:j+w+1].flatten()\n",
    "            Iy = dIy[i-w:i+w+1,j-w:j+w+1].flatten()\n",
    "            It = dIt[i-w:i+w+1,j-w:j+w+1].flatten()\n",
    "            A = np.vstack((Ix,Iy)).T\n",
    "            M = A.T@A\n",
    "            b = A.T@-It.reshape(-1,1)\n",
    "            U = np.linalg.solve(M,b)\n",
    "            u[i,j] = U[0]\n",
    "            v[i,j] = U[1]\n",
    "    return u,v"
   ]
  },
  {
   "cell_type": "code",
   "execution_count": null,
   "metadata": {},
   "outputs": [],
   "source": [
    "    while i > 0:\n",
    "        u_prime,v_prime = OpticalFlowRefine(pyramids_im1[i-1],pyramids_im2[i-1],window,u_prev,v_prev)\n",
    "        if u_prev is None:\n",
    "            u,v = u_prime,v_prime\n",
    "        else:\n",
    "            u,v = u_prime+u_prev,v_prime+v_prev\n",
    "        u_prev,v_prev = upsample_flow(u,v)\n",
    "        u_prev,v_prev = u_prev*2,v_prev*2\n",
    "        i -= 1\n",
    "    return u, v"
   ]
  },
  {
   "cell_type": "code",
   "execution_count": 72,
   "metadata": {},
   "outputs": [
    {
     "data": {
      "text/plain": [
       "array([[ 0,  2],\n",
       "       [ 1,  3],\n",
       "       [ 2,  4],\n",
       "       [ 3,  5],\n",
       "       [ 4,  6],\n",
       "       [ 5,  7],\n",
       "       [ 6,  8],\n",
       "       [ 7,  9],\n",
       "       [ 8, 10]])"
      ]
     },
     "execution_count": 72,
     "metadata": {},
     "output_type": "execute_result"
    }
   ],
   "source": [
    "np.vstack((np.arange(9),np.arange(9)+2)).T"
   ]
  },
  {
   "cell_type": "code",
   "execution_count": 75,
   "metadata": {},
   "outputs": [
    {
     "data": {
      "text/plain": [
       "array([[ 21,  24,  27],\n",
       "       [ 66,  78,  90],\n",
       "       [111, 132, 153]])"
      ]
     },
     "execution_count": 75,
     "metadata": {},
     "output_type": "execute_result"
    }
   ],
   "source": [
    "a@b"
   ]
  },
  {
   "cell_type": "code",
   "execution_count": 76,
   "metadata": {},
   "outputs": [
    {
     "data": {
      "text/plain": [
       "array([[ 21,  24,  27],\n",
       "       [ 66,  78,  90],\n",
       "       [111, 132, 153]])"
      ]
     },
     "execution_count": 76,
     "metadata": {},
     "output_type": "execute_result"
    }
   ],
   "source": [
    "np.dot(a,b)"
   ]
  }
 ],
 "metadata": {
  "kernelspec": {
   "display_name": "Python 3",
   "language": "python",
   "name": "python3"
  },
  "language_info": {
   "codemirror_mode": {
    "name": "ipython",
    "version": 3
   },
   "file_extension": ".py",
   "mimetype": "text/x-python",
   "name": "python",
   "nbconvert_exporter": "python",
   "pygments_lexer": "ipython3",
   "version": "3.7.0"
  }
 },
 "nbformat": 4,
 "nbformat_minor": 2
}
